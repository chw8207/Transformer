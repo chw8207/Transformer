{
  "nbformat": 4,
  "nbformat_minor": 0,
  "metadata": {
    "colab": {
      "provenance": [],
      "machine_shape": "hm",
      "gpuType": "A100",
      "mount_file_id": "1aYy_ZQ3o3Qpxm3jPq5dTtpn-LIufiAlB",
      "authorship_tag": "ABX9TyPtC5FRFYZX/BRs5OEamYXW",
      "include_colab_link": true
    },
    "kernelspec": {
      "name": "python3",
      "display_name": "Python 3"
    },
    "language_info": {
      "name": "python"
    },
    "accelerator": "GPU"
  },
  "cells": [
    {
      "cell_type": "markdown",
      "metadata": {
        "id": "view-in-github",
        "colab_type": "text"
      },
      "source": [
        "<a href=\"https://colab.research.google.com/github/chw8207/Transformer/blob/main/%ED%86%A0%ED%81%AC%EB%82%98%EC%9D%B4%EC%A0%80%26%EB%8D%B0%EC%9D%B4%ED%84%B0%EC%85%8B%EB%A7%A4%EC%B9%AD.ipynb\" target=\"_parent\"><img src=\"https://colab.research.google.com/assets/colab-badge.svg\" alt=\"Open In Colab\"/></a>"
      ]
    },
    {
      "cell_type": "code",
      "source": [
        "!pip install gensim\n",
        "import nltk\n",
        "nltk.download('punkt')"
      ],
      "metadata": {
        "id": "GYwP-sLy4OvC"
      },
      "execution_count": null,
      "outputs": []
    },
    {
      "cell_type": "code",
      "execution_count": 50,
      "metadata": {
        "id": "U1QMFjFK37JM"
      },
      "outputs": [],
      "source": [
        "import tensorflow as tf\n",
        "import math\n",
        "import numpy as np\n",
        "from nltk.tokenize import sent_tokenize, word_tokenize\n",
        "import gensim\n",
        "from gensim.models import Word2Vec\n",
        "from sklearn.metrics.pairwise import cosine_similarity\n",
        "import matplotlib.pyplot as plt\n",
        "import warnings\n",
        "warnings.filterwarnings(action='ignore')\n",
        "%matplotlib inline"
      ]
    },
    {
      "cell_type": "markdown",
      "source": [
        "### GPU 설정"
      ],
      "metadata": {
        "id": "tZoR3RxF4JDY"
      }
    },
    {
      "cell_type": "code",
      "source": [
        "device_name = tf.test.gpu_device_name()\n",
        "if device_name != '/device:GPU:0' :\n",
        "    raise SystemError('GPU device not found')\n",
        "print(f'Found GPU at: {device_name}')"
      ],
      "metadata": {
        "colab": {
          "base_uri": "https://localhost:8080/"
        },
        "id": "wOWTt7Q84I7W",
        "outputId": "5d0d5e37-7335-4a00-e3bf-a54d33cab815"
      },
      "execution_count": 2,
      "outputs": [
        {
          "output_type": "stream",
          "name": "stdout",
          "text": [
            "Found GPU at: /device:GPU:0\n"
          ]
        }
      ]
    },
    {
      "cell_type": "code",
      "source": [
        "from tensorflow.python.client import device_lib\n",
        "\n",
        "print(device_lib.list_local_devices())"
      ],
      "metadata": {
        "colab": {
          "base_uri": "https://localhost:8080/"
        },
        "id": "jWQc8Rnn4fJY",
        "outputId": "7763939f-42f8-4d94-9bab-1c41116a1eac"
      },
      "execution_count": 3,
      "outputs": [
        {
          "output_type": "stream",
          "name": "stdout",
          "text": [
            "[name: \"/device:CPU:0\"\n",
            "device_type: \"CPU\"\n",
            "memory_limit: 268435456\n",
            "locality {\n",
            "}\n",
            "incarnation: 8530136995046180449\n",
            "xla_global_id: -1\n",
            ", name: \"/device:GPU:0\"\n",
            "device_type: \"GPU\"\n",
            "memory_limit: 40129593344\n",
            "locality {\n",
            "  bus_id: 1\n",
            "  links {\n",
            "  }\n",
            "}\n",
            "incarnation: 7252778135895904899\n",
            "physical_device_desc: \"device: 0, name: NVIDIA A100-SXM4-40GB, pci bus id: 0000:00:04.0, compute capability: 8.0\"\n",
            "xla_global_id: 416903419\n",
            "]\n"
          ]
        }
      ]
    },
    {
      "cell_type": "markdown",
      "source": [
        "### Word2Vec 토큰화"
      ],
      "metadata": {
        "id": "EZG1kG-M3DWn"
      }
    },
    {
      "cell_type": "code",
      "source": [
        "# 데이터 토큰화하고 word2vec 모델을 훈련시키기\n",
        "sample = open('/content/drive/MyDrive/Colab Notebooks/Transformer/data/kant.txt', 'r')\n",
        "s = sample.read()"
      ],
      "metadata": {
        "id": "dvzTzdkY4gd6"
      },
      "execution_count": 51,
      "outputs": []
    },
    {
      "cell_type": "code",
      "source": [
        "# 이스케이프 문자 전처리\n",
        "f = s.replace('\\n', ' ')\n",
        "data = []\n",
        "\n",
        "# 문장 파싱(parshing)\n",
        "for i in sent_tokenize(f) :\n",
        "  temp = []\n",
        "  # 문장을 단어로 토큰화하기\n",
        "  for j in word_tokenize(i) :\n",
        "    temp.append(j.lower())\n",
        "  data.append(temp)"
      ],
      "metadata": {
        "id": "lNx1HWUV5uch"
      },
      "execution_count": 52,
      "outputs": []
    },
    {
      "cell_type": "code",
      "source": [
        "# Skip Gram 모델 생성하기\n",
        "# window: 입력 문장에서 현재 단어와 예측 단어 사이의 거리를 제한함.\n",
        "# model2 = gensim.models.Word2Vec(data, min_count=1, vector_size=512,\n",
        "#                                 window=5, sg=1)\n",
        "model2 = Word2Vec(data, min_count=1, vector_size=512,\n",
        "                                window=5, sg=1)\n",
        "print(model2)"
      ],
      "metadata": {
        "colab": {
          "base_uri": "https://localhost:8080/"
        },
        "id": "bVdeNTCK7D6v",
        "outputId": "ccb70b80-9f58-4e26-bbe7-0665a35cb22b"
      },
      "execution_count": 60,
      "outputs": [
        {
          "output_type": "stream",
          "name": "stdout",
          "text": [
            "Word2Vec<vocab=10236, vector_size=512, alpha=0.025>\n"
          ]
        }
      ]
    },
    {
      "cell_type": "code",
      "source": [
        "# 코싸인 유사도\n",
        "def similarity(word1, word2) :\n",
        "  cosine = False  # 기본값\n",
        "  try :\n",
        "    a = model2.wv[word1]\n",
        "    cosine=True\n",
        "  except KeyError :\n",
        "    print(word1, ':[unk] key not found in dictionary')\n",
        "  try :\n",
        "    b = model2.wv[word2] # a=True is implied\n",
        "  except KeyError :\n",
        "    cosine=False # a, b 둘 다 true여야 함.\n",
        "    print(word2, '[unk] key not not found in dictionary')\n",
        "\n",
        "  if(cosine==True) :\n",
        "    b = model2.wv[word2]\n",
        "    # 코싸인 유사도 계산\n",
        "    dot = np.dot(a, b)\n",
        "    norma = np.linalg.norm(a)\n",
        "    normb = np.linalg.norm(b)\n",
        "    cos = dot / (norma * normb)\n",
        "\n",
        "    aa = a.reshape(1, 512)\n",
        "    ba = b.reshape(1, 512)\n",
        "    # print('Word1', aa)\n",
        "    # print('Word2', ba)\n",
        "\n",
        "    cos_lib = cosine_similarity(aa, ba)\n",
        "    # print(cos_lib, 'word_similarity')\n",
        "\n",
        "  if(cosine==False) :\n",
        "    cos_lib = 0\n",
        "  return cos_lib"
      ],
      "metadata": {
        "id": "1aU1itME7798"
      },
      "execution_count": 64,
      "outputs": []
    },
    {
      "cell_type": "code",
      "source": [
        "# 사례0 : 데이터셋 및 사전의 단어\n",
        "word1 = 'freedom'\n",
        "word2 = 'liberty'\n",
        "print(\"Similarity\",similarity(word1,word2),word1,word2)"
      ],
      "metadata": {
        "colab": {
          "base_uri": "https://localhost:8080/"
        },
        "id": "r8RazYI2CyaZ",
        "outputId": "d4d31c61-646b-44f6-f61f-7deb503f9461"
      },
      "execution_count": 65,
      "outputs": [
        {
          "output_type": "stream",
          "name": "stdout",
          "text": [
            "Similarity [[0.34205425]] freedom liberty\n"
          ]
        }
      ]
    },
    {
      "cell_type": "code",
      "source": [
        "# 사례1 : 데이터셋이나 사전에 없는 단어\n",
        "word1 = 'corporations'\n",
        "word2 = 'right'\n",
        "print(\"Similarity\",similarity(word1,word2),word1,word2)"
      ],
      "metadata": {
        "colab": {
          "base_uri": "https://localhost:8080/"
        },
        "id": "3F0_LbpgGP9J",
        "outputId": "bcbc8455-4c59-4a0f-f934-0980b4016c44"
      },
      "execution_count": 66,
      "outputs": [
        {
          "output_type": "stream",
          "name": "stdout",
          "text": [
            "corporations :[unk] key not found in dictionary\n",
            "Similarity 0 corporations right\n"
          ]
        }
      ]
    },
    {
      "cell_type": "code",
      "source": [
        "# 노이즈성 관계\n",
        "word1 = 'etext'\n",
        "word2 = 'declaration'\n",
        "print(\"Similarity\",similarity(word1,word2),word1,word2)"
      ],
      "metadata": {
        "colab": {
          "base_uri": "https://localhost:8080/"
        },
        "id": "SNPbgaUMIWR0",
        "outputId": "97e43427-ab1e-49b0-eb93-a09e91c92698"
      },
      "execution_count": 69,
      "outputs": [
        {
          "output_type": "stream",
          "name": "stdout",
          "text": [
            "etext :[unk] key not found in dictionary\n",
            "Similarity 0 etext declaration\n"
          ]
        }
      ]
    }
  ]
}