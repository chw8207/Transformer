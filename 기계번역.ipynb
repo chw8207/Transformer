{
  "nbformat": 4,
  "nbformat_minor": 0,
  "metadata": {
    "colab": {
      "provenance": [],
      "machine_shape": "hm",
      "gpuType": "T4",
      "mount_file_id": "1B5GJ5_6XvW94q1GLjsb4stW9jdh-POwn",
      "authorship_tag": "ABX9TyP0HjROX4D7vwXQp9br2kfv",
      "include_colab_link": true
    },
    "kernelspec": {
      "name": "python3",
      "display_name": "Python 3"
    },
    "language_info": {
      "name": "python"
    },
    "accelerator": "GPU"
  },
  "cells": [
    {
      "cell_type": "markdown",
      "metadata": {
        "id": "view-in-github",
        "colab_type": "text"
      },
      "source": [
        "<a href=\"https://colab.research.google.com/github/chw8207/Transformer/blob/main/%EA%B8%B0%EA%B3%84%EB%B2%88%EC%97%AD.ipynb\" target=\"_parent\"><img src=\"https://colab.research.google.com/assets/colab-badge.svg\" alt=\"Open In Colab\"/></a>"
      ]
    },
    {
      "cell_type": "code",
      "source": [
        "import pickle\n",
        "from pickle import dump\n",
        "import re\n",
        "import string\n",
        "import unicodedata"
      ],
      "metadata": {
        "id": "H6pzGWy0L02h"
      },
      "execution_count": 6,
      "outputs": []
    },
    {
      "cell_type": "markdown",
      "source": [
        "### WMT 데이터셋 전처리"
      ],
      "metadata": {
        "id": "eVsywyrKLljJ"
      }
    },
    {
      "cell_type": "markdown",
      "source": [
        "#### 원시 데이터 전처리"
      ],
      "metadata": {
        "id": "JOyZOxrHLpIc"
      }
    },
    {
      "cell_type": "code",
      "execution_count": 5,
      "metadata": {
        "id": "hjBTmssK9JlB"
      },
      "outputs": [],
      "source": [
        "# 파일을 메모리에 로드하는 함수 정의\n",
        "def load_doc(filename) :\n",
        "  # 읽기 전용으로 파일 열기\n",
        "  file = open(filename, mode='rt', encoding='utf-8')\n",
        "  # 모든 텍스트 읽기\n",
        "  text = file.read()\n",
        "  # 파일 닫기\n",
        "  file.close()\n",
        "  return text\n",
        "\n",
        "  # 로드된 문서는 문장들로 분할됨\n",
        "  def to_sentences(doc) :\n",
        "    return doc.strip().split('\\n')\n",
        "\n",
        "  # 가장 짧은/가장 긴 문장의 길이 찾기\n",
        "  def sentence_lengths(sentences) :\n",
        "    lengths = [len(s.split()) for s in sentences]\n",
        "    return min(lengths), max(lengths)"
      ]
    },
    {
      "cell_type": "code",
      "source": [
        "# 불러온 문장 라인 정리(노이즈 제거)\n",
        "def clean_lines(lines) :\n",
        "  cleaned = list()\n",
        "  # char filtering을 위해 regex 준비하기\n",
        "  re_print = re.compile('[^%s]' % re.escape(string.printable))\n",
        "  # 구두점 제거하기 위한 번역표 준비하기\n",
        "  table = str.maketrans('','',string.punctuation)\n",
        "  for line in lines :\n",
        "    # 유니코드 characters 정규화\n",
        "    # 비 아스키 문자 제거\n",
        "    # NFD : 엑센트와 같은 결합 마디를 기본 형태의 문자로 분리함.\n",
        "    line = unicodedata.normalize('NFD',line).encode('ascii', 'ignore')\n",
        "    line = line.decode('UTF8-')\n",
        "    # 공백에서 토큰화\n",
        "    line = line.split()\n",
        "    # 소문자로 변환\n",
        "    line = [word.lower() for word in line]\n",
        "    # 각 토큰에서 구두점 제거\n",
        "    line = [word.translate(table) for word in line]\n",
        "    # 각 토큰에서 프린트할 수 없는 문자 제거\n",
        "    line = [re_print.sub('',w) for w in line]"
      ],
      "metadata": {
        "id": "0p2fmTXANCji"
      },
      "execution_count": 11,
      "outputs": []
    }
  ]
}